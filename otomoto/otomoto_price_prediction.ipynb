{
  "nbformat": 4,
  "nbformat_minor": 0,
  "metadata": {
    "colab": {
      "name": "otomoto price prediction.ipynb",
      "provenance": [],
      "collapsed_sections": [],
      "toc_visible": true
    },
    "kernelspec": {
      "name": "python3",
      "display_name": "Python 3"
    },
    "language_info": {
      "name": "python"
    }
  },
  "cells": [
    {
      "cell_type": "markdown",
      "metadata": {
        "id": "C4eRMEWGSSlz"
      },
      "source": [
        "# 1)DATA PREPROCESSING\n"
      ]
    },
    {
      "cell_type": "code",
      "metadata": {
        "id": "U4MjV5hRSeNq"
      },
      "source": [
        "# IMPORT LIBRARIES AND DATA SET\n",
        "import numpy as np\n",
        "import pandas as pd\n",
        "import matplotlib.pyplot as plt\n",
        "import seaborn as sns\n"
      ],
      "execution_count": null,
      "outputs": []
    },
    {
      "cell_type": "code",
      "metadata": {
        "id": "8EEyVzrQTOeU"
      },
      "source": [
        "dataset=pd.read_csv('/content/otomoto_price_prediction_data.csv')"
      ],
      "execution_count": null,
      "outputs": []
    },
    {
      "cell_type": "code",
      "metadata": {
        "colab": {
          "base_uri": "https://localhost:8080/",
          "height": 195
        },
        "id": "NniImzUrTNn0",
        "outputId": "d259da3c-c6d9-48fb-96eb-f1ef908774b4"
      },
      "source": [
        "dataset.head()"
      ],
      "execution_count": null,
      "outputs": [
        {
          "output_type": "execute_result",
          "data": {
            "text/html": [
              "<div>\n",
              "<style scoped>\n",
              "    .dataframe tbody tr th:only-of-type {\n",
              "        vertical-align: middle;\n",
              "    }\n",
              "\n",
              "    .dataframe tbody tr th {\n",
              "        vertical-align: top;\n",
              "    }\n",
              "\n",
              "    .dataframe thead th {\n",
              "        text-align: right;\n",
              "    }\n",
              "</style>\n",
              "<table border=\"1\" class=\"dataframe\">\n",
              "  <thead>\n",
              "    <tr style=\"text-align: right;\">\n",
              "      <th></th>\n",
              "      <th>make</th>\n",
              "      <th>model</th>\n",
              "      <th>vehicle_year</th>\n",
              "      <th>mileage</th>\n",
              "      <th>engine_capacity</th>\n",
              "      <th>engine_power</th>\n",
              "      <th>gearbox</th>\n",
              "      <th>fuel_type</th>\n",
              "      <th>damaged</th>\n",
              "      <th>is_business</th>\n",
              "      <th>target_price</th>\n",
              "    </tr>\n",
              "  </thead>\n",
              "  <tbody>\n",
              "    <tr>\n",
              "      <th>0</th>\n",
              "      <td>audi</td>\n",
              "      <td>a6</td>\n",
              "      <td>2013</td>\n",
              "      <td>153817.0</td>\n",
              "      <td>1984.0</td>\n",
              "      <td>180.0</td>\n",
              "      <td>automatic</td>\n",
              "      <td>petrol</td>\n",
              "      <td>0</td>\n",
              "      <td>0</td>\n",
              "      <td>69900.0</td>\n",
              "    </tr>\n",
              "    <tr>\n",
              "      <th>1</th>\n",
              "      <td>skoda</td>\n",
              "      <td>fabia</td>\n",
              "      <td>2004</td>\n",
              "      <td>115000.0</td>\n",
              "      <td>1390.0</td>\n",
              "      <td>75.0</td>\n",
              "      <td>manual</td>\n",
              "      <td>petrol</td>\n",
              "      <td>0</td>\n",
              "      <td>1</td>\n",
              "      <td>8299.0</td>\n",
              "    </tr>\n",
              "    <tr>\n",
              "      <th>2</th>\n",
              "      <td>chevrolet</td>\n",
              "      <td>camaro</td>\n",
              "      <td>2012</td>\n",
              "      <td>299000.0</td>\n",
              "      <td>3600.0</td>\n",
              "      <td>323.0</td>\n",
              "      <td>automatic</td>\n",
              "      <td>petrol</td>\n",
              "      <td>0</td>\n",
              "      <td>1</td>\n",
              "      <td>54500.0</td>\n",
              "    </tr>\n",
              "    <tr>\n",
              "      <th>3</th>\n",
              "      <td>bmw</td>\n",
              "      <td>seria-3</td>\n",
              "      <td>2013</td>\n",
              "      <td>155000.0</td>\n",
              "      <td>1995.0</td>\n",
              "      <td>163.0</td>\n",
              "      <td>automatic</td>\n",
              "      <td>diesel</td>\n",
              "      <td>0</td>\n",
              "      <td>0</td>\n",
              "      <td>62000.0</td>\n",
              "    </tr>\n",
              "    <tr>\n",
              "      <th>4</th>\n",
              "      <td>renault</td>\n",
              "      <td>talisman</td>\n",
              "      <td>2017</td>\n",
              "      <td>167000.0</td>\n",
              "      <td>1600.0</td>\n",
              "      <td>130.0</td>\n",
              "      <td>automatic</td>\n",
              "      <td>diesel</td>\n",
              "      <td>0</td>\n",
              "      <td>1</td>\n",
              "      <td>52999.0</td>\n",
              "    </tr>\n",
              "  </tbody>\n",
              "</table>\n",
              "</div>"
            ],
            "text/plain": [
              "        make     model  vehicle_year  ...  damaged  is_business  target_price\n",
              "0       audi        a6          2013  ...        0            0       69900.0\n",
              "1      skoda     fabia          2004  ...        0            1        8299.0\n",
              "2  chevrolet    camaro          2012  ...        0            1       54500.0\n",
              "3        bmw   seria-3          2013  ...        0            0       62000.0\n",
              "4    renault  talisman          2017  ...        0            1       52999.0\n",
              "\n",
              "[5 rows x 11 columns]"
            ]
          },
          "metadata": {
            "tags": []
          },
          "execution_count": 4
        }
      ]
    },
    {
      "cell_type": "code",
      "metadata": {
        "colab": {
          "base_uri": "https://localhost:8080/",
          "height": 195
        },
        "id": "JQBQ-mGwTg2s",
        "outputId": "dd2e5473-2d12-4d55-efa9-af0455950246"
      },
      "source": [
        "dataset.tail()"
      ],
      "execution_count": null,
      "outputs": [
        {
          "output_type": "execute_result",
          "data": {
            "text/html": [
              "<div>\n",
              "<style scoped>\n",
              "    .dataframe tbody tr th:only-of-type {\n",
              "        vertical-align: middle;\n",
              "    }\n",
              "\n",
              "    .dataframe tbody tr th {\n",
              "        vertical-align: top;\n",
              "    }\n",
              "\n",
              "    .dataframe thead th {\n",
              "        text-align: right;\n",
              "    }\n",
              "</style>\n",
              "<table border=\"1\" class=\"dataframe\">\n",
              "  <thead>\n",
              "    <tr style=\"text-align: right;\">\n",
              "      <th></th>\n",
              "      <th>make</th>\n",
              "      <th>model</th>\n",
              "      <th>vehicle_year</th>\n",
              "      <th>mileage</th>\n",
              "      <th>engine_capacity</th>\n",
              "      <th>engine_power</th>\n",
              "      <th>gearbox</th>\n",
              "      <th>fuel_type</th>\n",
              "      <th>damaged</th>\n",
              "      <th>is_business</th>\n",
              "      <th>target_price</th>\n",
              "    </tr>\n",
              "  </thead>\n",
              "  <tbody>\n",
              "    <tr>\n",
              "      <th>206202</th>\n",
              "      <td>mercedes-benz</td>\n",
              "      <td>klasa-b</td>\n",
              "      <td>2018</td>\n",
              "      <td>18000.0</td>\n",
              "      <td>1991.0</td>\n",
              "      <td>211.0</td>\n",
              "      <td>automatic</td>\n",
              "      <td>petrol</td>\n",
              "      <td>0</td>\n",
              "      <td>1</td>\n",
              "      <td>89900.0</td>\n",
              "    </tr>\n",
              "    <tr>\n",
              "      <th>206203</th>\n",
              "      <td>honda</td>\n",
              "      <td>jazz</td>\n",
              "      <td>2020</td>\n",
              "      <td>2700.0</td>\n",
              "      <td>1498.0</td>\n",
              "      <td>97.0</td>\n",
              "      <td>automatic</td>\n",
              "      <td>hybrid</td>\n",
              "      <td>0</td>\n",
              "      <td>1</td>\n",
              "      <td>94900.0</td>\n",
              "    </tr>\n",
              "    <tr>\n",
              "      <th>206204</th>\n",
              "      <td>mitsubishi</td>\n",
              "      <td>l200</td>\n",
              "      <td>2015</td>\n",
              "      <td>225000.0</td>\n",
              "      <td>2477.0</td>\n",
              "      <td>178.0</td>\n",
              "      <td>manual</td>\n",
              "      <td>diesel</td>\n",
              "      <td>0</td>\n",
              "      <td>1</td>\n",
              "      <td>69900.0</td>\n",
              "    </tr>\n",
              "    <tr>\n",
              "      <th>206205</th>\n",
              "      <td>volkswagen</td>\n",
              "      <td>transporter</td>\n",
              "      <td>2006</td>\n",
              "      <td>232000.0</td>\n",
              "      <td>1900.0</td>\n",
              "      <td>105.0</td>\n",
              "      <td>manual</td>\n",
              "      <td>diesel</td>\n",
              "      <td>0</td>\n",
              "      <td>0</td>\n",
              "      <td>29900.0</td>\n",
              "    </tr>\n",
              "    <tr>\n",
              "      <th>206206</th>\n",
              "      <td>volkswagen</td>\n",
              "      <td>passat</td>\n",
              "      <td>2012</td>\n",
              "      <td>204000.0</td>\n",
              "      <td>1968.0</td>\n",
              "      <td>140.0</td>\n",
              "      <td>manual</td>\n",
              "      <td>diesel</td>\n",
              "      <td>0</td>\n",
              "      <td>1</td>\n",
              "      <td>30900.0</td>\n",
              "    </tr>\n",
              "  </tbody>\n",
              "</table>\n",
              "</div>"
            ],
            "text/plain": [
              "                 make        model  ...  is_business  target_price\n",
              "206202  mercedes-benz      klasa-b  ...            1       89900.0\n",
              "206203          honda         jazz  ...            1       94900.0\n",
              "206204     mitsubishi         l200  ...            1       69900.0\n",
              "206205     volkswagen  transporter  ...            0       29900.0\n",
              "206206     volkswagen       passat  ...            1       30900.0\n",
              "\n",
              "[5 rows x 11 columns]"
            ]
          },
          "metadata": {
            "tags": []
          },
          "execution_count": 5
        }
      ]
    },
    {
      "cell_type": "markdown",
      "metadata": {
        "id": "UvQGRqdDTwwM"
      },
      "source": [
        "# DATA EXPLORATION"
      ]
    },
    {
      "cell_type": "code",
      "metadata": {
        "colab": {
          "base_uri": "https://localhost:8080/"
        },
        "id": "iHYFqyw1T2yT",
        "outputId": "50e3d24e-0868-41db-adc5-0d6fd8da0405"
      },
      "source": [
        "dataset.shape"
      ],
      "execution_count": null,
      "outputs": [
        {
          "output_type": "execute_result",
          "data": {
            "text/plain": [
              "(206207, 11)"
            ]
          },
          "metadata": {
            "tags": []
          },
          "execution_count": 6
        }
      ]
    },
    {
      "cell_type": "code",
      "metadata": {
        "colab": {
          "base_uri": "https://localhost:8080/"
        },
        "id": "7raZQqbET62a",
        "outputId": "1b9c2cbf-9cff-4079-fc4c-701b349efe3b"
      },
      "source": [
        "dataset.info()"
      ],
      "execution_count": null,
      "outputs": [
        {
          "output_type": "stream",
          "text": [
            "<class 'pandas.core.frame.DataFrame'>\n",
            "RangeIndex: 206207 entries, 0 to 206206\n",
            "Data columns (total 11 columns):\n",
            " #   Column           Non-Null Count   Dtype  \n",
            "---  ------           --------------   -----  \n",
            " 0   make             206207 non-null  object \n",
            " 1   model            206207 non-null  object \n",
            " 2   vehicle_year     206207 non-null  int64  \n",
            " 3   mileage          204853 non-null  float64\n",
            " 4   engine_capacity  204029 non-null  float64\n",
            " 5   engine_power     204628 non-null  float64\n",
            " 6   gearbox          204842 non-null  object \n",
            " 7   fuel_type        206207 non-null  object \n",
            " 8   damaged          206207 non-null  int64  \n",
            " 9   is_business      206207 non-null  int64  \n",
            " 10  target_price     206207 non-null  float64\n",
            "dtypes: float64(4), int64(3), object(4)\n",
            "memory usage: 17.3+ MB\n"
          ],
          "name": "stdout"
        }
      ]
    },
    {
      "cell_type": "code",
      "metadata": {
        "colab": {
          "base_uri": "https://localhost:8080/"
        },
        "id": "QayPi8j_UE2T",
        "outputId": "3b8f1baa-d9dd-43b3-9651-7c6218b9e4c4"
      },
      "source": [
        "dataset.select_dtypes(include='object').columns"
      ],
      "execution_count": null,
      "outputs": [
        {
          "output_type": "execute_result",
          "data": {
            "text/plain": [
              "Index(['make', 'model', 'gearbox', 'fuel_type'], dtype='object')"
            ]
          },
          "metadata": {
            "tags": []
          },
          "execution_count": 8
        }
      ]
    },
    {
      "cell_type": "code",
      "metadata": {
        "colab": {
          "base_uri": "https://localhost:8080/"
        },
        "id": "i_QX31b-UWub",
        "outputId": "dd7e6534-2417-4995-d5c5-eca0be3601f5"
      },
      "source": [
        "len(dataset.select_dtypes(include='object').columns)"
      ],
      "execution_count": null,
      "outputs": [
        {
          "output_type": "execute_result",
          "data": {
            "text/plain": [
              "4"
            ]
          },
          "metadata": {
            "tags": []
          },
          "execution_count": 9
        }
      ]
    },
    {
      "cell_type": "code",
      "metadata": {
        "colab": {
          "base_uri": "https://localhost:8080/"
        },
        "id": "zs7uPfrcUewD",
        "outputId": "87d5d9fb-6a74-4a2f-ed1a-087906712edd"
      },
      "source": [
        "dataset.select_dtypes(include='float64').columns"
      ],
      "execution_count": null,
      "outputs": [
        {
          "output_type": "execute_result",
          "data": {
            "text/plain": [
              "Index(['mileage', 'engine_capacity', 'engine_power', 'target_price'], dtype='object')"
            ]
          },
          "metadata": {
            "tags": []
          },
          "execution_count": 10
        }
      ]
    },
    {
      "cell_type": "code",
      "metadata": {
        "colab": {
          "base_uri": "https://localhost:8080/"
        },
        "id": "TSB_iV4YUpu7",
        "outputId": "a0ed915f-8927-4c97-98dd-1bd8ec486249"
      },
      "source": [
        "len(dataset.select_dtypes(include='float64').columns)"
      ],
      "execution_count": null,
      "outputs": [
        {
          "output_type": "execute_result",
          "data": {
            "text/plain": [
              "4"
            ]
          },
          "metadata": {
            "tags": []
          },
          "execution_count": 11
        }
      ]
    },
    {
      "cell_type": "code",
      "metadata": {
        "colab": {
          "base_uri": "https://localhost:8080/",
          "height": 284
        },
        "id": "3JF7k0_LU2wj",
        "outputId": "e979b0ad-6782-4ab2-c18f-50329d899494"
      },
      "source": [
        "# statstical summary\n",
        "dataset.describe()"
      ],
      "execution_count": null,
      "outputs": [
        {
          "output_type": "execute_result",
          "data": {
            "text/html": [
              "<div>\n",
              "<style scoped>\n",
              "    .dataframe tbody tr th:only-of-type {\n",
              "        vertical-align: middle;\n",
              "    }\n",
              "\n",
              "    .dataframe tbody tr th {\n",
              "        vertical-align: top;\n",
              "    }\n",
              "\n",
              "    .dataframe thead th {\n",
              "        text-align: right;\n",
              "    }\n",
              "</style>\n",
              "<table border=\"1\" class=\"dataframe\">\n",
              "  <thead>\n",
              "    <tr style=\"text-align: right;\">\n",
              "      <th></th>\n",
              "      <th>vehicle_year</th>\n",
              "      <th>mileage</th>\n",
              "      <th>engine_capacity</th>\n",
              "      <th>engine_power</th>\n",
              "      <th>damaged</th>\n",
              "      <th>is_business</th>\n",
              "      <th>target_price</th>\n",
              "    </tr>\n",
              "  </thead>\n",
              "  <tbody>\n",
              "    <tr>\n",
              "      <th>count</th>\n",
              "      <td>206207.000000</td>\n",
              "      <td>2.048530e+05</td>\n",
              "      <td>204029.000000</td>\n",
              "      <td>204628.000000</td>\n",
              "      <td>206207.000000</td>\n",
              "      <td>206207.000000</td>\n",
              "      <td>2.062070e+05</td>\n",
              "    </tr>\n",
              "    <tr>\n",
              "      <th>mean</th>\n",
              "      <td>2012.313855</td>\n",
              "      <td>6.656787e+05</td>\n",
              "      <td>1865.096922</td>\n",
              "      <td>151.300301</td>\n",
              "      <td>0.038059</td>\n",
              "      <td>0.600038</td>\n",
              "      <td>6.273519e+04</td>\n",
              "    </tr>\n",
              "    <tr>\n",
              "      <th>std</th>\n",
              "      <td>6.453940</td>\n",
              "      <td>2.040768e+08</td>\n",
              "      <td>708.559717</td>\n",
              "      <td>76.915073</td>\n",
              "      <td>0.191339</td>\n",
              "      <td>0.489891</td>\n",
              "      <td>8.604596e+04</td>\n",
              "    </tr>\n",
              "    <tr>\n",
              "      <th>min</th>\n",
              "      <td>1917.000000</td>\n",
              "      <td>1.000000e+00</td>\n",
              "      <td>400.000000</td>\n",
              "      <td>1.000000</td>\n",
              "      <td>0.000000</td>\n",
              "      <td>0.000000</td>\n",
              "      <td>6.000000e+02</td>\n",
              "    </tr>\n",
              "    <tr>\n",
              "      <th>25%</th>\n",
              "      <td>2008.000000</td>\n",
              "      <td>4.500000e+04</td>\n",
              "      <td>1461.000000</td>\n",
              "      <td>105.000000</td>\n",
              "      <td>0.000000</td>\n",
              "      <td>0.000000</td>\n",
              "      <td>1.799900e+04</td>\n",
              "    </tr>\n",
              "    <tr>\n",
              "      <th>50%</th>\n",
              "      <td>2013.000000</td>\n",
              "      <td>1.378500e+05</td>\n",
              "      <td>1797.000000</td>\n",
              "      <td>136.000000</td>\n",
              "      <td>0.000000</td>\n",
              "      <td>1.000000</td>\n",
              "      <td>3.590000e+04</td>\n",
              "    </tr>\n",
              "    <tr>\n",
              "      <th>75%</th>\n",
              "      <td>2017.000000</td>\n",
              "      <td>1.990000e+05</td>\n",
              "      <td>1997.000000</td>\n",
              "      <td>170.000000</td>\n",
              "      <td>0.000000</td>\n",
              "      <td>1.000000</td>\n",
              "      <td>7.490000e+04</td>\n",
              "    </tr>\n",
              "    <tr>\n",
              "      <th>max</th>\n",
              "      <td>2021.000000</td>\n",
              "      <td>9.060612e+10</td>\n",
              "      <td>8400.000000</td>\n",
              "      <td>1500.000000</td>\n",
              "      <td>1.000000</td>\n",
              "      <td>1.000000</td>\n",
              "      <td>5.250000e+06</td>\n",
              "    </tr>\n",
              "  </tbody>\n",
              "</table>\n",
              "</div>"
            ],
            "text/plain": [
              "        vehicle_year       mileage  ...    is_business  target_price\n",
              "count  206207.000000  2.048530e+05  ...  206207.000000  2.062070e+05\n",
              "mean     2012.313855  6.656787e+05  ...       0.600038  6.273519e+04\n",
              "std         6.453940  2.040768e+08  ...       0.489891  8.604596e+04\n",
              "min      1917.000000  1.000000e+00  ...       0.000000  6.000000e+02\n",
              "25%      2008.000000  4.500000e+04  ...       0.000000  1.799900e+04\n",
              "50%      2013.000000  1.378500e+05  ...       1.000000  3.590000e+04\n",
              "75%      2017.000000  1.990000e+05  ...       1.000000  7.490000e+04\n",
              "max      2021.000000  9.060612e+10  ...       1.000000  5.250000e+06\n",
              "\n",
              "[8 rows x 7 columns]"
            ]
          },
          "metadata": {
            "tags": []
          },
          "execution_count": 12
        }
      ]
    },
    {
      "cell_type": "markdown",
      "metadata": {
        "id": "bCaJlc9sVLDb"
      },
      "source": [
        "# DEALING WITH MISSING VALUES"
      ]
    },
    {
      "cell_type": "code",
      "metadata": {
        "colab": {
          "base_uri": "https://localhost:8080/"
        },
        "id": "E6t99MboVWPj",
        "outputId": "4b0d3e00-a07e-414f-cc95-4898902194cf"
      },
      "source": [
        "dataset.isnull().values.any()"
      ],
      "execution_count": null,
      "outputs": [
        {
          "output_type": "execute_result",
          "data": {
            "text/plain": [
              "True"
            ]
          },
          "metadata": {
            "tags": []
          },
          "execution_count": 13
        }
      ]
    },
    {
      "cell_type": "code",
      "metadata": {
        "colab": {
          "base_uri": "https://localhost:8080/"
        },
        "id": "mT-Y-RYBVmMj",
        "outputId": "b1e3f3fd-0bdb-44c3-fe1c-f74ad9872dfe"
      },
      "source": [
        "dataset.isnull().values.sum()"
      ],
      "execution_count": null,
      "outputs": [
        {
          "output_type": "execute_result",
          "data": {
            "text/plain": [
              "6476"
            ]
          },
          "metadata": {
            "tags": []
          },
          "execution_count": 14
        }
      ]
    },
    {
      "cell_type": "code",
      "metadata": {
        "colab": {
          "base_uri": "https://localhost:8080/"
        },
        "id": "I2--P2ZiVqDb",
        "outputId": "a91e8578-61cd-4f9c-ba0c-593a542894ac"
      },
      "source": [
        "dataset.columns[dataset.isnull().any()]"
      ],
      "execution_count": null,
      "outputs": [
        {
          "output_type": "execute_result",
          "data": {
            "text/plain": [
              "Index(['mileage', 'engine_capacity', 'engine_power', 'gearbox'], dtype='object')"
            ]
          },
          "metadata": {
            "tags": []
          },
          "execution_count": 15
        }
      ]
    },
    {
      "cell_type": "code",
      "metadata": {
        "colab": {
          "base_uri": "https://localhost:8080/"
        },
        "id": "s5edwSOnV-KM",
        "outputId": "bd428493-23d3-416d-a60f-6c910ec372fd"
      },
      "source": [
        "len(dataset.columns[dataset.isnull().any()])"
      ],
      "execution_count": null,
      "outputs": [
        {
          "output_type": "execute_result",
          "data": {
            "text/plain": [
              "4"
            ]
          },
          "metadata": {
            "tags": []
          },
          "execution_count": 16
        }
      ]
    },
    {
      "cell_type": "code",
      "metadata": {
        "colab": {
          "base_uri": "https://localhost:8080/"
        },
        "id": "vWPzE5vLX5qk",
        "outputId": "60a833bc-9eb6-46bf-e57a-c731ff0482a7"
      },
      "source": [
        "dataset.isnull().sum()"
      ],
      "execution_count": null,
      "outputs": [
        {
          "output_type": "execute_result",
          "data": {
            "text/plain": [
              "make                  0\n",
              "model                 0\n",
              "vehicle_year          0\n",
              "mileage            1354\n",
              "engine_capacity    2178\n",
              "engine_power       1579\n",
              "gearbox            1365\n",
              "fuel_type             0\n",
              "damaged               0\n",
              "is_business           0\n",
              "target_price          0\n",
              "dtype: int64"
            ]
          },
          "metadata": {
            "tags": []
          },
          "execution_count": 17
        }
      ]
    },
    {
      "cell_type": "code",
      "metadata": {
        "colab": {
          "base_uri": "https://localhost:8080/"
        },
        "id": "cIyX0Z12YBw8",
        "outputId": "f5328b39-35d6-4c9f-80ab-d1060797533c"
      },
      "source": [
        "# columns with null values\n",
        "dataset.columns[dataset.isnull().any()]"
      ],
      "execution_count": null,
      "outputs": [
        {
          "output_type": "execute_result",
          "data": {
            "text/plain": [
              "Index(['mileage', 'engine_capacity', 'engine_power', 'gearbox'], dtype='object')"
            ]
          },
          "metadata": {
            "tags": []
          },
          "execution_count": 18
        }
      ]
    },
    {
      "cell_type": "code",
      "metadata": {
        "colab": {
          "base_uri": "https://localhost:8080/",
          "height": 613
        },
        "id": "XHGI3A0fYPWE",
        "outputId": "1db8a9be-0a3b-4850-9797-261beac5f548"
      },
      "source": [
        "# null values with heat5 map\n",
        "plt.figure(figsize=[16,9])\n",
        "sns.heatmap(dataset.isnull())\n",
        "plt.show()"
      ],
      "execution_count": null,
      "outputs": [
        {
          "output_type": "display_data",
          "data": {
            "image/png": "[encoded data removed]",
            "text/plain": [
              "<Figure size 1152x648 with 2 Axes>"
            ]
          },
          "metadata": {
            "tags": [],
            "needs_background": "light"
          }
        }
      ]
    },
    {
      "cell_type": "code",
      "metadata": {
        "colab": {
          "base_uri": "https://localhost:8080/"
        },
        "id": "Kti8cCY2Yy3G",
        "outputId": "d7cc3850-e7d0-4a31-d4a3-6b7656751aa6"
      },
      "source": [
        "dataset.shape\n"
      ],
      "execution_count": null,
      "outputs": [
        {
          "output_type": "execute_result",
          "data": {
            "text/plain": [
              "(206207, 11)"
            ]
          },
          "metadata": {
            "tags": []
          },
          "execution_count": 20
        }
      ]
    },
    {
      "cell_type": "code",
      "metadata": {
        "colab": {
          "base_uri": "https://localhost:8080/"
        },
        "id": "HYcxvColY9jt",
        "outputId": "44ed5c0a-cfa9-4bd3-c0a8-d0b53cb9cf0a"
      },
      "source": [
        "nullpercent=dataset.isnull().sum()/dataset.shape[0]*100\n",
        "nullpercent"
      ],
      "execution_count": null,
      "outputs": [
        {
          "output_type": "execute_result",
          "data": {
            "text/plain": [
              "make               0.000000\n",
              "model              0.000000\n",
              "vehicle_year       0.000000\n",
              "mileage            0.656622\n",
              "engine_capacity    1.056220\n",
              "engine_power       0.765735\n",
              "gearbox            0.661956\n",
              "fuel_type          0.000000\n",
              "damaged            0.000000\n",
              "is_business        0.000000\n",
              "target_price       0.000000\n",
              "dtype: float64"
            ]
          },
          "metadata": {
            "tags": []
          },
          "execution_count": 21
        }
      ]
    },
    {
      "cell_type": "code",
      "metadata": {
        "id": "L5SvNUdVZMH1"
      },
      "source": [
        "# columns to drop more than 50 % null values\n",
        "cols_to_drop=nullpercent[nullpercent>50].keys()"
      ],
      "execution_count": null,
      "outputs": []
    },
    {
      "cell_type": "code",
      "metadata": {
        "colab": {
          "base_uri": "https://localhost:8080/"
        },
        "id": "ji7_RP0SZxSF",
        "outputId": "b40aaaee-c5fb-4f31-e791-ce048b797760"
      },
      "source": [
        "cols_to_drop"
      ],
      "execution_count": null,
      "outputs": [
        {
          "output_type": "execute_result",
          "data": {
            "text/plain": [
              "Index([], dtype='object')"
            ]
          },
          "metadata": {
            "tags": []
          },
          "execution_count": 23
        }
      ]
    },
    {
      "cell_type": "code",
      "metadata": {
        "colab": {
          "base_uri": "https://localhost:8080/"
        },
        "id": "puj_KLiAa7sP",
        "outputId": "4eed9449-9780-4f7b-9084-88477c42ccb0"
      },
      "source": [
        "dataset.select_dtypes(include='float64').columns"
      ],
      "execution_count": null,
      "outputs": [
        {
          "output_type": "execute_result",
          "data": {
            "text/plain": [
              "Index(['mileage', 'engine_capacity', 'engine_power', 'target_price'], dtype='object')"
            ]
          },
          "metadata": {
            "tags": []
          },
          "execution_count": 24
        }
      ]
    },
    {
      "cell_type": "code",
      "metadata": {
        "id": "-5gERNpTaH8F"
      },
      "source": [
        "# add column means to numerical colums\n",
        "dataset['mileage']=dataset['mileage'].fillna(dataset['mileage'].mean())\n",
        "\n",
        "\n"
      ],
      "execution_count": null,
      "outputs": []
    },
    {
      "cell_type": "code",
      "metadata": {
        "id": "R9Ax8mcNaVdm"
      },
      "source": [
        "dataset['engine_capacity']=dataset['engine_capacity'].fillna(dataset['engine_capacity'].mean())"
      ],
      "execution_count": null,
      "outputs": []
    },
    {
      "cell_type": "code",
      "metadata": {
        "id": "9okYGWa0aVjJ"
      },
      "source": [
        "dataset['engine_power']=dataset['engine_power'].fillna(dataset['engine_power'].mean())"
      ],
      "execution_count": null,
      "outputs": []
    },
    {
      "cell_type": "code",
      "metadata": {
        "id": "QDMpOGdQaVlh"
      },
      "source": [
        "dataset['damaged']=dataset['damaged'].fillna(dataset['damaged'].mean())"
      ],
      "execution_count": null,
      "outputs": []
    },
    {
      "cell_type": "code",
      "metadata": {
        "id": "znXcQrsoaVoF"
      },
      "source": [
        "dataset['is_business']=dataset['is_business'].fillna(dataset['is_business'].mean())"
      ],
      "execution_count": null,
      "outputs": []
    },
    {
      "cell_type": "code",
      "metadata": {
        "id": "3xOBzazWaVq8"
      },
      "source": [
        "dataset['target_price']=dataset['target_price'].fillna(dataset['target_price'].mean())"
      ],
      "execution_count": null,
      "outputs": []
    },
    {
      "cell_type": "code",
      "metadata": {
        "colab": {
          "base_uri": "https://localhost:8080/"
        },
        "id": "Xjyobk7eaVtg",
        "outputId": "26367be1-adf7-4820-c196-429e277e9523"
      },
      "source": [
        "len(dataset.columns[dataset.isnull().any()])"
      ],
      "execution_count": null,
      "outputs": [
        {
          "output_type": "execute_result",
          "data": {
            "text/plain": [
              "1"
            ]
          },
          "metadata": {
            "tags": []
          },
          "execution_count": 31
        }
      ]
    },
    {
      "cell_type": "code",
      "metadata": {
        "colab": {
          "base_uri": "https://localhost:8080/"
        },
        "id": "ZkkvePloaVwM",
        "outputId": "9a733668-e3e6-4d95-f24b-6e14954131ee"
      },
      "source": [
        "# add columns mode to categoricalo columns\n",
        "dataset.select_dtypes(include='object').columns"
      ],
      "execution_count": null,
      "outputs": [
        {
          "output_type": "execute_result",
          "data": {
            "text/plain": [
              "Index(['make', 'model', 'gearbox', 'fuel_type'], dtype='object')"
            ]
          },
          "metadata": {
            "tags": []
          },
          "execution_count": 32
        }
      ]
    },
    {
      "cell_type": "code",
      "metadata": {
        "colab": {
          "base_uri": "https://localhost:8080/"
        },
        "id": "JTtf0KUgeV75",
        "outputId": "8ec3bc24-c81d-406f-8ff5-499851cb631e"
      },
      "source": [
        "dataset.columns[dataset.isnull().any()]"
      ],
      "execution_count": null,
      "outputs": [
        {
          "output_type": "execute_result",
          "data": {
            "text/plain": [
              "Index(['gearbox'], dtype='object')"
            ]
          },
          "metadata": {
            "tags": []
          },
          "execution_count": 33
        }
      ]
    },
    {
      "cell_type": "code",
      "metadata": {
        "id": "6YcEZ46Xek8-"
      },
      "source": [
        "dataset['gearbox']=dataset['gearbox'].fillna(dataset['gearbox'].mode()[0])"
      ],
      "execution_count": null,
      "outputs": []
    },
    {
      "cell_type": "code",
      "metadata": {
        "id": "ynniJjRfek_1"
      },
      "source": [
        "dataset['make']=dataset['make'].fillna(dataset['make'].mode()[0])"
      ],
      "execution_count": null,
      "outputs": []
    },
    {
      "cell_type": "code",
      "metadata": {
        "id": "UcttVOgHelC3"
      },
      "source": [
        "dataset['model']=dataset['model'].fillna(dataset['model'].mode()[0])"
      ],
      "execution_count": null,
      "outputs": []
    },
    {
      "cell_type": "code",
      "metadata": {
        "id": "h7JrzmmzelFX"
      },
      "source": [
        "dataset['fuel_type']=dataset['fuel_type'].fillna(dataset['fuel_type'].mode()[0])"
      ],
      "execution_count": null,
      "outputs": []
    },
    {
      "cell_type": "code",
      "metadata": {
        "colab": {
          "base_uri": "https://localhost:8080/"
        },
        "id": "VDC2zOaGelHy",
        "outputId": "695f952f-4fb5-4af9-aa09-a2ece8dfbd86"
      },
      "source": [
        "len(dataset.columns[dataset.isnull().any()])\n"
      ],
      "execution_count": null,
      "outputs": [
        {
          "output_type": "execute_result",
          "data": {
            "text/plain": [
              "0"
            ]
          },
          "metadata": {
            "tags": []
          },
          "execution_count": 38
        }
      ]
    },
    {
      "cell_type": "code",
      "metadata": {
        "colab": {
          "base_uri": "https://localhost:8080/"
        },
        "id": "ZQRFdiFLelKH",
        "outputId": "f8e481eb-e5c4-4065-9acb-59040abfb484"
      },
      "source": [
        "dataset.isnull().values.any()"
      ],
      "execution_count": null,
      "outputs": [
        {
          "output_type": "execute_result",
          "data": {
            "text/plain": [
              "False"
            ]
          },
          "metadata": {
            "tags": []
          },
          "execution_count": 39
        }
      ]
    },
    {
      "cell_type": "markdown",
      "metadata": {
        "id": "xpf2mCVLf8q-"
      },
      "source": [
        "# distplot"
      ]
    },
    {
      "cell_type": "code",
      "metadata": {
        "colab": {
          "base_uri": "https://localhost:8080/",
          "height": 386
        },
        "id": "F1cw80lMfw1x",
        "outputId": "7d1529cb-8da0-426b-828e-f51aaaec29bc"
      },
      "source": [
        "# displot of target variable\n",
        "plt.figure(figsize=[100,20])\n",
        "bar=sns.displot(dataset['target_price'])\n",
        "bar.legend:['skewness: {:.2f}'.format(dataset['target_price'].skew())]\n",
        "plt.show()"
      ],
      "execution_count": null,
      "outputs": [
        {
          "output_type": "display_data",
          "data": {
            "text/plain": [
              "<Figure size 7200x1440 with 0 Axes>"
            ]
          },
          "metadata": {
            "tags": []
          }
        },
        {
          "output_type": "display_data",
          "data": {
            "image/png": "[encoded data removed]",
            "text/plain": [
              "<Figure size 360x360 with 1 Axes>"
            ]
          },
          "metadata": {
            "tags": [],
            "needs_background": "light"
          }
        }
      ]
    },
    {
      "cell_type": "code",
      "metadata": {
        "id": "DQgnccSBfw4W"
      },
      "source": [
        "# correlation matrix\n",
        "dataset_2=dataset.drop(columns='target_price')"
      ],
      "execution_count": null,
      "outputs": []
    },
    {
      "cell_type": "code",
      "metadata": {
        "colab": {
          "base_uri": "https://localhost:8080/"
        },
        "id": "CNsr4dkthI8E",
        "outputId": "c4b9d993-c189-45c3-9a3b-ba79cbae00cf"
      },
      "source": [
        "dataset_2.shape"
      ],
      "execution_count": null,
      "outputs": [
        {
          "output_type": "execute_result",
          "data": {
            "text/plain": [
              "(206207, 10)"
            ]
          },
          "metadata": {
            "tags": []
          },
          "execution_count": 42
        }
      ]
    },
    {
      "cell_type": "code",
      "metadata": {
        "colab": {
          "base_uri": "https://localhost:8080/",
          "height": 642
        },
        "id": "3eXLch8Ffw9X",
        "outputId": "d002aeac-33d3-498d-89dd-0bd5aa202e37"
      },
      "source": [
        "dataset_2.corrwith(dataset['target_price']).plot.bar(\n",
        "    figsize=(16,9),title='correlation with target price',grid=True\n",
        ")"
      ],
      "execution_count": null,
      "outputs": [
        {
          "output_type": "execute_result",
          "data": {
            "text/plain": [
              "<matplotlib.axes._subplots.AxesSubplot at 0x7f3f9c6acfd0>"
            ]
          },
          "metadata": {
            "tags": []
          },
          "execution_count": 43
        },
        {
          "output_type": "display_data",
          "data": {
            "image/png": "[encoded data removed]",
            "text/plain": [
              "<Figure size 1152x648 with 1 Axes>"
            ]
          },
          "metadata": {
            "tags": [],
            "needs_background": "light"
          }
        }
      ]
    },
    {
      "cell_type": "code",
      "metadata": {
        "colab": {
          "base_uri": "https://localhost:8080/",
          "height": 1000
        },
        "id": "F51rlnMkfxAV",
        "outputId": "815c1283-9e4c-4d97-f82c-81426ff5fef6"
      },
      "source": [
        "# heatmap\n",
        "plt.figure(figsize=(25,25))\n",
        "ax=sns.heatmap(data=dataset.corr(),cmap='coolwarm',annot=True,linewidths=2)"
      ],
      "execution_count": null,
      "outputs": [
        {
          "output_type": "display_data",
          "data": {
            "image/png": "[encoded data removed]",
            "text/plain": [
              "<Figure size 1800x1800 with 2 Axes>"
            ]
          },
          "metadata": {
            "tags": [],
            "needs_background": "light"
          }
        }
      ]
    },
    {
      "cell_type": "code",
      "metadata": {
        "id": "ccPjBBwLj_46"
      },
      "source": [
        "high_corr=dataset.corr()"
      ],
      "execution_count": null,
      "outputs": []
    },
    {
      "cell_type": "code",
      "metadata": {
        "id": "h1BirdmXj_7h"
      },
      "source": [
        "high_corr_features=high_corr.index[abs(high_corr['target_price'])>0.5]"
      ],
      "execution_count": null,
      "outputs": []
    },
    {
      "cell_type": "code",
      "metadata": {
        "colab": {
          "base_uri": "https://localhost:8080/"
        },
        "id": "IbuEJwcYj_-E",
        "outputId": "241d68c4-af7d-4c4f-e9e8-8ac9e2b9ff88"
      },
      "source": [
        "high_corr_features"
      ],
      "execution_count": null,
      "outputs": [
        {
          "output_type": "execute_result",
          "data": {
            "text/plain": [
              "Index(['engine_power', 'target_price'], dtype='object')"
            ]
          },
          "metadata": {
            "tags": []
          },
          "execution_count": 47
        }
      ]
    },
    {
      "cell_type": "code",
      "metadata": {
        "colab": {
          "base_uri": "https://localhost:8080/",
          "height": 923
        },
        "id": "8HOpQKh9kAAt",
        "outputId": "30a562cf-960e-4cc9-f76d-6259b5d8df18"
      },
      "source": [
        "plt.figure(figsize=(16,16))\n",
        "ax=sns.heatmap(data=dataset[high_corr_features].corr(),cmap='coolwarm',annot=True,linewidths=2)"
      ],
      "execution_count": null,
      "outputs": [
        {
          "output_type": "display_data",
          "data": {
            "image/png": "[encoded data removed]",
            "text/plain": [
              "<Figure size 1152x1152 with 2 Axes>"
            ]
          },
          "metadata": {
            "tags": [],
            "needs_background": "light"
          }
        }
      ]
    },
    {
      "cell_type": "markdown",
      "metadata": {
        "id": "WjhS-mOfmf2X"
      },
      "source": [
        "# dealing with categorical values"
      ]
    },
    {
      "cell_type": "code",
      "metadata": {
        "colab": {
          "base_uri": "https://localhost:8080/"
        },
        "id": "NSxH0Gt2mSzT",
        "outputId": "60f4e71c-e355-4b25-c9e1-c743552d9482"
      },
      "source": [
        "dataset.shape"
      ],
      "execution_count": null,
      "outputs": [
        {
          "output_type": "execute_result",
          "data": {
            "text/plain": [
              "(206207, 11)"
            ]
          },
          "metadata": {
            "tags": []
          },
          "execution_count": 49
        }
      ]
    },
    {
      "cell_type": "code",
      "metadata": {
        "colab": {
          "base_uri": "https://localhost:8080/"
        },
        "id": "3oBZOBzqmS2L",
        "outputId": "5c64cd0b-910e-45e7-ab45-f6bd53e45c0a"
      },
      "source": [
        "dataset.select_dtypes(include='object').columns"
      ],
      "execution_count": null,
      "outputs": [
        {
          "output_type": "execute_result",
          "data": {
            "text/plain": [
              "Index(['make', 'model', 'gearbox', 'fuel_type'], dtype='object')"
            ]
          },
          "metadata": {
            "tags": []
          },
          "execution_count": 50
        }
      ]
    },
    {
      "cell_type": "code",
      "metadata": {
        "id": "MEB_eHYvmS5z"
      },
      "source": [
        "dataset=pd.get_dummies(data=dataset,drop_first=True)"
      ],
      "execution_count": null,
      "outputs": []
    },
    {
      "cell_type": "code",
      "metadata": {
        "colab": {
          "base_uri": "https://localhost:8080/"
        },
        "id": "Uw0_BJ88mS8G",
        "outputId": "d26178b5-908f-4cc2-9303-d9a6c5d08785"
      },
      "source": [
        "dataset.shape"
      ],
      "execution_count": null,
      "outputs": [
        {
          "output_type": "execute_result",
          "data": {
            "text/plain": [
              "(206207, 1293)"
            ]
          },
          "metadata": {
            "tags": []
          },
          "execution_count": 52
        }
      ]
    },
    {
      "cell_type": "code",
      "metadata": {
        "colab": {
          "base_uri": "https://localhost:8080/"
        },
        "id": "z2OtB2qJmS_C",
        "outputId": "dbfb9d00-3668-4a5f-949b-78e40171605b"
      },
      "source": [
        "dataset.select_dtypes(include='object').columns"
      ],
      "execution_count": null,
      "outputs": [
        {
          "output_type": "execute_result",
          "data": {
            "text/plain": [
              "Index([], dtype='object')"
            ]
          },
          "metadata": {
            "tags": []
          },
          "execution_count": 53
        }
      ]
    },
    {
      "cell_type": "code",
      "metadata": {
        "colab": {
          "base_uri": "https://localhost:8080/"
        },
        "id": "r5xAxaxsnoti",
        "outputId": "bfd2e55a-fad3-4a7a-c42e-b5e4b213b9e5"
      },
      "source": [
        "len(dataset.select_dtypes(include='object').columns)"
      ],
      "execution_count": null,
      "outputs": [
        {
          "output_type": "execute_result",
          "data": {
            "text/plain": [
              "0"
            ]
          },
          "metadata": {
            "tags": []
          },
          "execution_count": 54
        }
      ]
    },
    {
      "cell_type": "markdown",
      "metadata": {
        "id": "BFLc-53dnyfZ"
      },
      "source": [
        "# splitting the dataset"
      ]
    },
    {
      "cell_type": "code",
      "metadata": {
        "id": "_q_QoDQ2no0u"
      },
      "source": [
        "# independent variables\n",
        "x=dataset.drop(columns='target_price')"
      ],
      "execution_count": null,
      "outputs": []
    },
    {
      "cell_type": "code",
      "metadata": {
        "id": "EDLXmKElno3A"
      },
      "source": [
        "# target variable\n",
        "y=dataset['target_price']"
      ],
      "execution_count": null,
      "outputs": []
    },
    {
      "cell_type": "code",
      "metadata": {
        "id": "4Gd8q44Bno5O"
      },
      "source": [
        "from sklearn.model_selection import train_test_split"
      ],
      "execution_count": null,
      "outputs": []
    },
    {
      "cell_type": "code",
      "metadata": {
        "id": "SDL8GvwNno8T"
      },
      "source": [
        "x_train,x_test,y_train,y_test= train_test_split(x,y,test_size=0.2,random_state=0)"
      ],
      "execution_count": null,
      "outputs": []
    },
    {
      "cell_type": "code",
      "metadata": {
        "colab": {
          "base_uri": "https://localhost:8080/"
        },
        "id": "bTZ-K6fWno-F",
        "outputId": "138eaca9-5268-4688-aa62-8c784207f3c0"
      },
      "source": [
        "x_train.shape"
      ],
      "execution_count": null,
      "outputs": [
        {
          "output_type": "execute_result",
          "data": {
            "text/plain": [
              "(164965, 1292)"
            ]
          },
          "metadata": {
            "tags": []
          },
          "execution_count": 59
        }
      ]
    },
    {
      "cell_type": "code",
      "metadata": {
        "colab": {
          "base_uri": "https://localhost:8080/"
        },
        "id": "SxmBlu93pFx2",
        "outputId": "f8089e16-9d36-4e87-ba37-5226eabee8e7"
      },
      "source": [
        "y_train.shape"
      ],
      "execution_count": null,
      "outputs": [
        {
          "output_type": "execute_result",
          "data": {
            "text/plain": [
              "(164965,)"
            ]
          },
          "metadata": {
            "tags": []
          },
          "execution_count": 60
        }
      ]
    },
    {
      "cell_type": "code",
      "metadata": {
        "colab": {
          "base_uri": "https://localhost:8080/"
        },
        "id": "C9FutRTVpF0d",
        "outputId": "bd3f57bc-b94e-4915-f375-4ba5ce192a5d"
      },
      "source": [
        "x_test.shape"
      ],
      "execution_count": null,
      "outputs": [
        {
          "output_type": "execute_result",
          "data": {
            "text/plain": [
              "(41242, 1292)"
            ]
          },
          "metadata": {
            "tags": []
          },
          "execution_count": 61
        }
      ]
    },
    {
      "cell_type": "code",
      "metadata": {
        "colab": {
          "base_uri": "https://localhost:8080/"
        },
        "id": "ofe20HxIpF23",
        "outputId": "b3c2e7a0-c791-4e52-cee1-f5d07697e57b"
      },
      "source": [
        "y_test.shape"
      ],
      "execution_count": null,
      "outputs": [
        {
          "output_type": "execute_result",
          "data": {
            "text/plain": [
              "(41242,)"
            ]
          },
          "metadata": {
            "tags": []
          },
          "execution_count": 62
        }
      ]
    },
    {
      "cell_type": "markdown",
      "metadata": {
        "id": "is42nuCNpYtv"
      },
      "source": [
        "# FEATURE SCALING"
      ]
    },
    {
      "cell_type": "code",
      "metadata": {
        "id": "n-h46vDUpF5l"
      },
      "source": [
        "from sklearn.preprocessing import StandardScaler"
      ],
      "execution_count": null,
      "outputs": []
    },
    {
      "cell_type": "code",
      "metadata": {
        "id": "erSvxy4np5te"
      },
      "source": [
        "sc= StandardScaler()\n",
        "x_train=sc.fit_transform(x_train)\n",
        "x_test=sc.fit_transform(x_test)\n"
      ],
      "execution_count": null,
      "outputs": []
    },
    {
      "cell_type": "code",
      "metadata": {
        "colab": {
          "base_uri": "https://localhost:8080/"
        },
        "id": "Te_5EzJXp5wN",
        "outputId": "9fb545bd-1ed8-4917-cfcc-625ed8b8ca1b"
      },
      "source": [
        "x_train"
      ],
      "execution_count": null,
      "outputs": [
        {
          "output_type": "execute_result",
          "data": {
            "text/plain": [
              "array([[-2.68381416e+00,  2.31005402e-03, -3.80428178e-01, ...,\n",
              "        -1.00630606e+00, -1.77571894e-02,  4.75787144e+00],\n",
              "       [ 1.03681686e+00, -5.63499200e-03, -5.21013095e-01, ...,\n",
              "         9.93733453e-01, -1.77571894e-02, -2.10178020e-01],\n",
              "       [ 1.19184315e+00, -5.63499200e-03, -7.56741340e-01, ...,\n",
              "         9.93733453e-01, -1.77571894e-02, -2.10178020e-01],\n",
              "       ...,\n",
              "       [ 1.19184315e+00, -5.63490148e-03,  1.46137624e+00, ...,\n",
              "         9.93733453e-01, -1.77571894e-02, -2.10178020e-01],\n",
              "       [-5.13446065e-01, -1.33549015e-03,  1.89011739e-01, ...,\n",
              "         9.93733453e-01, -1.77571894e-02, -2.10178020e-01],\n",
              "       [ 1.19184315e+00, -5.63456205e-03,  1.60196116e+00, ...,\n",
              "        -1.00630606e+00, -1.77571894e-02, -2.10178020e-01]])"
            ]
          },
          "metadata": {
            "tags": []
          },
          "execution_count": 65
        }
      ]
    },
    {
      "cell_type": "code",
      "metadata": {
        "colab": {
          "base_uri": "https://localhost:8080/"
        },
        "id": "Mii8XHLXp5z5",
        "outputId": "57a60f83-9b21-4237-d92f-067e2cd1f401"
      },
      "source": [
        "x_test"
      ],
      "execution_count": null,
      "outputs": [
        {
          "output_type": "execute_result",
          "data": {
            "text/plain": [
              "array([[ 0.56879604, -0.00506622, -0.40142065, ..., -1.00490997,\n",
              "        -0.01302915, -0.20581448],\n",
              "       [-0.97739102, -0.00490259, -0.37596894, ...,  0.99511402,\n",
              "        -0.01302915, -0.20581448],\n",
              "       [ 0.10493992, -0.0048219 , -0.65876568, ...,  0.99511402,\n",
              "        -0.01302915, -0.20581448],\n",
              "       ...,\n",
              "       [ 1.18727086, -0.00522758,  0.14437705, ..., -1.00490997,\n",
              "        -0.01302915, -0.20581448],\n",
              "       [ 0.25955863, -0.00504939,  2.45906835, ...,  0.99511402,\n",
              "        -0.01302915, -0.20581448],\n",
              "       [ 1.18727086, -0.00518779,  0.18679656, ..., -1.00490997,\n",
              "        -0.01302915, -0.20581448]])"
            ]
          },
          "metadata": {
            "tags": []
          },
          "execution_count": 66
        }
      ]
    },
    {
      "cell_type": "markdown",
      "metadata": {
        "id": "7N_ls0U5q7E0"
      },
      "source": [
        "# model building"
      ]
    },
    {
      "cell_type": "code",
      "metadata": {
        "colab": {
          "base_uri": "https://localhost:8080/"
        },
        "id": "2Tj127WbuWtQ",
        "outputId": "cff10768-c66c-45fa-bd5f-34736db01d50"
      },
      "source": [
        "# XGBoost regression\n",
        "from xgboost import XGBRFRegressor\n",
        "regression_xg=XGBRFRegressor()\n",
        "regression_xg.fit(x_train,y_train)\n"
      ],
      "execution_count": null,
      "outputs": [
        {
          "output_type": "stream",
          "text": [
            "[02:05:00] WARNING: /workspace/src/objective/regression_obj.cu:152: reg:linear is now deprecated in favor of reg:squarederror.\n"
          ],
          "name": "stdout"
        },
        {
          "output_type": "execute_result",
          "data": {
            "text/plain": [
              "XGBRFRegressor(base_score=0.5, colsample_bylevel=1, colsample_bynode=0.8,\n",
              "               colsample_bytree=1, gamma=0, learning_rate=1, max_delta_step=0,\n",
              "               max_depth=3, min_child_weight=1, missing=None, n_estimators=100,\n",
              "               n_jobs=1, nthread=None, objective='reg:linear', random_state=0,\n",
              "               reg_alpha=0, reg_lambda=1, scale_pos_weight=1, seed=None,\n",
              "               silent=None, subsample=0.8, verbosity=1)"
            ]
          },
          "metadata": {
            "tags": []
          },
          "execution_count": 67
        }
      ]
    },
    {
      "cell_type": "code",
      "metadata": {
        "id": "xLuht9hhuW0H"
      },
      "source": [
        "y_pred=regression_xg.predict(x_test)"
      ],
      "execution_count": null,
      "outputs": []
    },
    {
      "cell_type": "code",
      "metadata": {
        "id": "grUE5SdXuW2c"
      },
      "source": [
        "from sklearn.metrics import r2_score"
      ],
      "execution_count": null,
      "outputs": []
    },
    {
      "cell_type": "code",
      "metadata": {
        "colab": {
          "base_uri": "https://localhost:8080/"
        },
        "id": "ehx11KH4uW5a",
        "outputId": "357add9d-5d1e-4850-eb13-9f634979fb4d"
      },
      "source": [
        "r2_score(y_test,y_pred)"
      ],
      "execution_count": null,
      "outputs": [
        {
          "output_type": "execute_result",
          "data": {
            "text/plain": [
              "0.7213254757519307"
            ]
          },
          "metadata": {
            "tags": []
          },
          "execution_count": 70
        }
      ]
    }
  ]
}